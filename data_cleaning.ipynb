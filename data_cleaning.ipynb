{
 "cells": [
  {
   "cell_type": "code",
   "execution_count": null,
   "id": "af0b87c0",
   "metadata": {},
   "outputs": [],
   "source": [
    "git remote add origin https://github.com/your-username/your-repo-name.git\n",
    "git branch -M main\n",
    "git push -u origin main\n",
    "\n",
    "git remote add origin https://github.com/Kashutin1961/DataCleaningProject.git\n",
    "git branch -M master\n",
    "git push -u origin master\n",
    "\n",
    "https://github.com/Kashutin1961/DataCleaningProject.git\n",
    "\n",
    "dir \"C:\\Users\\ekash\\OneDrive\\001 EKASHUTIN\\SkillFactory\\DataCleaningProject\" /b > file_list.txt\n",
    "\n",
    "Get-ChildItem \"C:\\Users\\ekash\\OneDrive\\001 EKASHUTIN\\SkillFactory\\DataCleaningProject\" | Out-File \"file_list.txt\"\n",
    "\n",
    "winget install --id JohnMacFarlane.Pandoc --source winget\n",
    "\n",
    "git remote set-url origin git@github.com:Kashutin1961/DataCleaningProject.git\n",
    "\n",
    "\"C:\\Users\\ekash\\OneDrive\\001 EKASHUTIN\\SkillFactory\\IDE\\SkillFactory\\GitKeyOne\"\n",
    "\n",
    "eval \"$(ssh-agent -s)\"\n",
    "ssh-add \"C:\\Users\\ekash\\OneDrive\\001 EKASHUTIN\\SkillFactory\\IDE\\SkillFactory\\GitKeyOne\"\n",
    "\n"
   ]
  }
 ],
 "metadata": {
  "language_info": {
   "name": "python"
  }
 },
 "nbformat": 4,
 "nbformat_minor": 5
}
